{
 "cells": [
  {
   "cell_type": "markdown",
   "id": "0fc8f835-eb19-4576-bc9f-a5595f1952cd",
   "metadata": {},
   "source": [
    "# H1 Data Science Tools and Ecosystem"
   ]
  },
  {
   "cell_type": "markdown",
   "id": "80534a21-ba98-4b86-9633-c0ab727c7f5f",
   "metadata": {},
   "source": [
    "### In this notebook, Data Science Tools and Ecosystem are summarized."
   ]
  },
  {
   "cell_type": "markdown",
   "id": "98ad88fc-d543-49c9-8acf-d21237b74688",
   "metadata": {},
   "source": [
    "**Objetives**\n",
    "\n",
    "* popular languages for Data Science\n",
    "* Libraries\n",
    "* List"
   ]
  },
  {
   "cell_type": "markdown",
   "id": "501c626b-d94f-4f54-86d2-ef63d3f8fef0",
   "metadata": {},
   "source": [
    "### Some of the popular languages that Data Scientists use are:\n",
    "1. Python\n",
    "2. R\n",
    "3. Java\n",
    "4. Scala"
   ]
  },
  {
   "cell_type": "markdown",
   "id": "a75744c7-289b-4f61-ab39-472a9b329657",
   "metadata": {},
   "source": [
    "###  Some of the commonly used libraries used by Data Scientists include:\n",
    "1. Panda\n",
    "2. TensorFlow\n",
    "3. Numpy\n",
    "4. Plotly"
   ]
  },
  {
   "cell_type": "markdown",
   "id": "8e13d082-eb12-4c44-bbae-e5f16807bd67",
   "metadata": {},
   "source": [
    "| Data Science Tools  |\n",
    "|----------------------------------|\n",
    "| Jupyter Notebook |\n",
    "| RStudio |\n",
    "| Apache Zeppelin |\n"
   ]
  },
  {
   "cell_type": "markdown",
   "id": "8cdc0904-5359-4a60-91a4-83852df8c1b8",
   "metadata": {},
   "source": [
    "### Below are a few examples of evaluating arithmetic expressions in Python"
   ]
  },
  {
   "cell_type": "code",
   "execution_count": 5,
   "id": "ea5ce0ec-1af0-4cc2-a709-b16d86adaee9",
   "metadata": {},
   "outputs": [
    {
     "data": {
      "text/plain": [
       "17"
      ]
     },
     "execution_count": 5,
     "metadata": {},
     "output_type": "execute_result"
    }
   ],
   "source": [
    "# This a simple arithmetic expression to mutiply then add integers\n",
    "(3*4)+5"
   ]
  },
  {
   "cell_type": "code",
   "execution_count": 7,
   "id": "59cde66f-1b6c-41ac-8ea4-0589a384f8f9",
   "metadata": {},
   "outputs": [
    {
     "data": {
      "text/plain": [
       "3"
      ]
     },
     "execution_count": 7,
     "metadata": {},
     "output_type": "execute_result"
    }
   ],
   "source": [
    "#this will convert 200 minutes to hours by diving by 60\n",
    "200//60"
   ]
  },
  {
   "cell_type": "code",
   "execution_count": null,
   "id": "2a848ad9-85b0-40ea-9936-06fde8ed7fbf",
   "metadata": {},
   "outputs": [],
   "source": []
  },
  {
   "cell_type": "markdown",
   "id": "ab99f8dd-82df-458a-b5fc-c4bc6692f6e6",
   "metadata": {},
   "source": [
    "## Autor\n",
    "Mounina Nayem"
   ]
  },
  {
   "cell_type": "code",
   "execution_count": null,
   "id": "fed3cf11-f35a-474d-b115-44f0fb193bc8",
   "metadata": {},
   "outputs": [],
   "source": []
  }
 ],
 "metadata": {
  "kernelspec": {
   "display_name": "Python 3 (ipykernel)",
   "language": "python",
   "name": "python3"
  },
  "language_info": {
   "codemirror_mode": {
    "name": "ipython",
    "version": 3
   },
   "file_extension": ".py",
   "mimetype": "text/x-python",
   "name": "python",
   "nbconvert_exporter": "python",
   "pygments_lexer": "ipython3",
   "version": "3.11.9"
  }
 },
 "nbformat": 4,
 "nbformat_minor": 5
}
